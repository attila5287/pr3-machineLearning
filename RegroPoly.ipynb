{
 "cells": [
  {
   "cell_type": "code",
   "execution_count": null,
   "metadata": {},
   "outputs": [],
   "source": [
    "# ######### data mungling with pandas before app-py for Flask # ######### \n",
    "from IPython.core.interactiveshell import InteractiveShell\n",
    "InteractiveShell.ast_node_interactivity = \"all\""
   ]
  },
  {
   "cell_type": "code",
   "execution_count": null,
   "metadata": {},
   "outputs": [],
   "source": [
    "import pandas as pd\n",
    "import numpy as np\n",
    "import datetime as dt\n",
    "#  <NAME>_df = pd.read_csv('<FILE>.csv', encoding='ISO-8859-1')"
   ]
  },
  {
   "cell_type": "code",
   "execution_count": null,
   "metadata": {},
   "outputs": [],
   "source": [
    "import matplotlib.pyplot as plt\n",
    "import matplotlib.style as style\n",
    "# style.available\n",
    "style.use( 'fivethirtyeight')"
   ]
  },
  {
   "cell_type": "code",
   "execution_count": null,
   "metadata": {},
   "outputs": [],
   "source": [
    "# the list below will used in our functions to colorize output\n",
    "colorList=['coral',\n",
    "           'goldenrod',\n",
    "           'salmon',\n",
    "           'orangered',\n",
    "           'darkolivegreen',\n",
    "           'olivedrab',\n",
    "           'cadetblue',\n",
    "           'palevioletred',\n",
    "           'mediumorchid',\n",
    "           'darkorange'\n",
    "          ]"
   ]
  },
  {
   "cell_type": "code",
   "execution_count": null,
   "metadata": {},
   "outputs": [],
   "source": [
    "import matplotlib.path as mpath\n",
    "# this is a code of a negative-spaced-star-shaped SVG path that will\n",
    "# mark rounds help player  see important date points easily\n",
    "def cut_st4r(n):\n",
    "    star = mpath.Path.unit_regular_star(n)\n",
    "    circle = mpath.Path.unit_circle()\n",
    "    # concatenate the circle with an internal cutout of the star\n",
    "    verts = np.concatenate([circle.vertices, star.vertices[::-1, ...]])\n",
    "    codes = np.concatenate([circle.codes, star.codes])\n",
    "    cut_star = mpath.Path(verts, codes)\n",
    "    return cut_star"
   ]
  },
  {
   "cell_type": "code",
   "execution_count": null,
   "metadata": {},
   "outputs": [],
   "source": [
    "file_stateAllHomes = 'zillow/state/State_Zhvi_AllHomes.csv'"
   ]
  },
  {
   "cell_type": "code",
   "execution_count": null,
   "metadata": {},
   "outputs": [],
   "source": [
    "def stateDateTdf(file):\n",
    "    \"\"\"file: path to CSV file obtained from ZILLOW\n",
    "    returns a dataframe with dateTime timestamp on index\n",
    "    \"\"\"\n",
    "    _df = pd.read_csv(file, encoding='ISO-8859-1').drop(columns=['RegionID','SizeRank'])\n",
    "    _Tdf = _df.set_index(['RegionName']).T.reset_index()\n",
    "    _Tdf['Date'] = _Tdf['index']\n",
    "    _Tdf['DateDT']=pd.to_datetime(_Tdf['Date']) \n",
    "    return _Tdf.drop(columns=['index','Date']).set_index(['DateDT'])"
   ]
  },
  {
   "cell_type": "code",
   "execution_count": null,
   "metadata": {},
   "outputs": [],
   "source": [
    "allHomes_df = stateDateTdf(file_stateAllHomes)\n",
    "# allHomes_df"
   ]
  },
  {
   "cell_type": "code",
   "execution_count": null,
   "metadata": {},
   "outputs": [],
   "source": [
    "def stateYrAvgTdf(file):\n",
    "    \"\"\"file:path to file\n",
    "    ##returns a dataframe##\n",
    "    \"\"\"\n",
    "    _df = pd.read_csv(file, encoding='ISO-8859-1').drop(columns=['RegionID','SizeRank'])\n",
    "    _Tdf = _df.set_index(['RegionName']).T.reset_index()\n",
    "    _Tdf['Date'] = _Tdf['index']\n",
    "    _Tdf['DateDT']=pd.to_datetime(_Tdf['Date']) \n",
    "    _Tdf['DateMo'] = _Tdf['DateDT'].dt.month\n",
    "    _Tdf['DateYr'] = _Tdf['DateDT'].dt.year\n",
    "    return _Tdf.drop(columns=['index','Date','DateMo']).groupby(['DateYr']).mean()"
   ]
  },
  {
   "cell_type": "code",
   "execution_count": null,
   "metadata": {},
   "outputs": [],
   "source": [
    "allHomesYrAvg_df = stateYrAvgTdf(file_stateAllHomes)\n",
    "# allHomesYrAvg_df 24 rows × 51 columns"
   ]
  },
  {
   "cell_type": "code",
   "execution_count": null,
   "metadata": {},
   "outputs": [],
   "source": [
    "def listRoundLabels(yearStart,yearEnd):\n",
    "    _list_=np.arange(yearStart,yearEnd)\n",
    "    add_part='-01'\n",
    "    add_list=[]\n",
    "    for year in _list_:\n",
    "        add_list.append(str(year)+add_part)\n",
    "    return add_list        "
   ]
  },
  {
   "cell_type": "code",
   "execution_count": null,
   "metadata": {},
   "outputs": [],
   "source": [
    "def roundYearEndTdf(file,yearStart,yearEnd):\n",
    "    _df = pd.read_csv(file, encoding='ISO-8859-1').drop(columns=['RegionID','SizeRank'])\n",
    "    return _df.set_index('RegionName')[listRoundLabels(yearStart,yearEnd)].T.interpolate()"
   ]
  },
  {
   "cell_type": "code",
   "execution_count": null,
   "metadata": {},
   "outputs": [],
   "source": [
    "def pltPlotEZSeries(ser1es,labelUser):\n",
    "    \"\"\"series, labelUser:name on legend for series\n",
    "    \"\"\"    \n",
    "    c0lorList = colorList.copy()\n",
    "    rand1nt = np.random.randint(0,len(c0lorList))\n",
    "    c0lor = c0lorList[rand1nt] \n",
    "    rand2nt=(len(c0lorList)-rand1nt)\n",
    "#     c0lor2 = c0lorList[rand2nt] \n",
    "    plt.figure(figsize=(15,10))\n",
    "    plt.rcParams[\"font.size\"] = 18\n",
    "    plt.grid(True)\n",
    "    plt.title(\"Price vs Time\")\n",
    "    plt.xlabel(\"Time\")\n",
    "    plt.ylabel(\"Price \")\n",
    "    plt.plot( ser1es,\n",
    "             linestyle='--', \n",
    "             marker = 'o', \n",
    "             markersize='20',\n",
    "             markeredgecolor='whitesmoke',\n",
    "#              markeredgecolor=c0lor2,\n",
    "             markeredgewidth='3',\n",
    "             color = c0lor,\n",
    "             label=labelUser\n",
    "            )\n",
    "    plt.legend(loc='best')\n",
    "    plt.show()"
   ]
  },
  {
   "cell_type": "code",
   "execution_count": null,
   "metadata": {},
   "outputs": [],
   "source": [
    "def pltPlotEZ(df,label):\n",
    "    \"\"\"df:dataframe, label:field name to bring\n",
    "    \"\"\"\n",
    "    c0lorList = colorList.copy()\n",
    "    rand1nt = np.random.randint(0,len(c0lorList))\n",
    "    c0lor = c0lorList[rand1nt] \n",
    "    plt.figure(figsize=(15,10))\n",
    "    plt.rcParams[\"font.size\"] = 18\n",
    "    plt.grid(True)\n",
    "    plt.title(\"Price vs Time Series\")\n",
    "    plt.xlabel(\"Time\")\n",
    "    plt.ylabel(\"Price \")\n",
    "    plt.plot(df[label],\n",
    "             linestyle='--', \n",
    "             marker = 'o', \n",
    "             markersize='15',\n",
    "             markeredgecolor='whitesmoke',\n",
    "             markeredgewidth='1.5',\n",
    "             color = c0lor,\n",
    "             label=label\n",
    "            )\n",
    "    plt.legend(loc='best')\n",
    "#     plt.show()\n",
    "    return "
   ]
  },
  {
   "cell_type": "code",
   "execution_count": null,
   "metadata": {},
   "outputs": [],
   "source": [
    "def pltPlotEZstar(df,label):\n",
    "    c0lorList = colorList.copy()\n",
    "    rand1nt = np.random.randint(0,len(c0lorList))\n",
    "    c0lor = c0lorList[rand1nt] \n",
    "    plt.figure(figsize=(14,6))\n",
    "    plt.rcParams[\"font.size\"] = 10\n",
    "    plt.grid(True)\n",
    "    plt.title(\"Price vs Time\")\n",
    "    plt.xlabel(\"Time\")\n",
    "    plt.ylabel(\"Price \")\n",
    "    plt.plot(df.index,\n",
    "             df[label],\n",
    "             linestyle='--', \n",
    "             marker = cut_st4r(5), \n",
    "             markersize='35',\n",
    "             markeredgecolor='whitesmoke',\n",
    "             markeredgewidth='1.5',\n",
    "             color = c0lor,\n",
    "             label=label\n",
    "            )\n",
    "    plt.legend(loc='best')\n",
    "#     plt.show()\n",
    "    return "
   ]
  },
  {
   "cell_type": "code",
   "execution_count": null,
   "metadata": {},
   "outputs": [],
   "source": [
    "def PlotFieldList(pivoted_Tdf,field_list):\n",
    "    plt.figure(figsize=(25,15))\n",
    "    plt.rcParams[\"font.size\"] = 16\n",
    "    plt.grid(True)\n",
    "    plt.xlabel(\"X: base value\")\n",
    "    plt.xlabel(\"y: actual/predicted\")\n",
    "\n",
    "    for field in field_list:\n",
    "        plt.plot(pivoted_Tdf.index, pivoted_Tdf[field], linestyle='--', marker = 'o',label=field)\n",
    "        plt.legend(loc='best')\n",
    "        \n",
    "    plt.bar(pivoted_Tdf.index,pivoted_Tdf.mean(axis=1), color = 'g',  alpha = 0.30, align='center', label = 'Overall Average')\n",
    "    plt.legend(loc='best')\n",
    "    plt.show()"
   ]
  },
  {
   "cell_type": "code",
   "execution_count": null,
   "metadata": {},
   "outputs": [],
   "source": [
    "allHomesGamePeriod  = roundYearEndTdf(file_stateAllHomes,2003,2019)\n",
    "pltPlotEZstar(allHomesGamePeriod,'California')\n",
    "pltPlotEZstar(allHomesGamePeriod,'Colorado')\n",
    "pltPlotEZstar(allHomesGamePeriod,'Nebraska')\n",
    "# allHomesGamePeriod"
   ]
  },
  {
   "cell_type": "code",
   "execution_count": null,
   "metadata": {},
   "outputs": [],
   "source": [
    "def metroDateTdf(file):\n",
    "    \"\"\"file: path to CSV file obtained from ZILLOW\n",
    "    returns a dataframe with dateTime timestamp on index\n",
    "    \"\"\"\n",
    "    _df = pd.read_csv(file, encoding='ISO-8859-1').drop(columns=['RegionID','SizeRank'])\n",
    "    _Tdf = _df.set_index(['RegionName']).T.reset_index()\n",
    "    _Tdf['Date'] = _Tdf['index']\n",
    "    _Tdf['DateDT']=pd.to_datetime(_Tdf['Date']) \n",
    "    return _Tdf.drop(columns=['index','Date','DateMo','DateYr']).set_index(['DateDT'])"
   ]
  },
  {
   "cell_type": "code",
   "execution_count": null,
   "metadata": {},
   "outputs": [],
   "source": [
    "#===================== zillow data =====================\n",
    "# zillow home value index break down metro\n",
    "# create a dataframe and pull US average\n",
    "file_metroAllHomes = 'zillow/metro/Metro_Zhvi_AllHomes.csv'\n",
    "allHomesMetro_df = metroDateTdf(file_metroAllHomes)\n",
    "USavg_list = allHomesMetro_df['United States'].tolist()\n",
    "allHomes_df['UnitedStates'] = USavg_list\n",
    "# allHomes_df['UnitedStates']"
   ]
  },
  {
   "cell_type": "code",
   "execution_count": null,
   "metadata": {},
   "outputs": [],
   "source": [
    "# zillow home value index break down state ONE BEDROOM\n",
    "file_stateOneBed = 'zillow/state/State_Zhvi_1bedroom.csv'\n",
    "oneBed_df = stateDateTdf(file_stateOneBed)\n",
    "# oneBed_df.describe()"
   ]
  },
  {
   "cell_type": "code",
   "execution_count": null,
   "metadata": {},
   "outputs": [],
   "source": [
    "# zillow home value index break down state TWO BEDROOMS\n",
    "file_stateTwoBed = 'zillow/state/State_Zhvi_2bedroom.csv'\n",
    "twoBed_df = stateDateTdf(file_stateTwoBed)\n",
    "# twoBed_df.describe()"
   ]
  },
  {
   "cell_type": "code",
   "execution_count": null,
   "metadata": {},
   "outputs": [],
   "source": [
    "# zillow home value index break down state THREE BEDROOMS\n",
    "file_stateThreeBed = 'zillow/state/State_Zhvi_3bedroom.csv'\n",
    "threeBed_df = stateDateTdf(file_stateThreeBed)\n",
    "# threeBed_df.describe()"
   ]
  },
  {
   "cell_type": "code",
   "execution_count": null,
   "metadata": {},
   "outputs": [],
   "source": [
    "# zillow home value index break down state CONDO\n",
    "file_stateCondo = 'zillow/state/State_Zhvi_Condominum.csv'\n",
    "condo_df = stateDateTdf(file_stateCondo)\n",
    "# condo_df.describe()\n",
    "#===================== zillow data end====================="
   ]
  },
  {
   "cell_type": "code",
   "execution_count": null,
   "metadata": {},
   "outputs": [],
   "source": [
    "# ====================== FED macro-econ DATA  =================== \n",
    "#----------------------------------------------------------------\n",
    "#data | fileName (all files are .csv and monthly)\n",
    "#----------------------------------------------------------------\n",
    "# Unemployment Rate: 20 years and over (LNS14000024) \n",
    "# Median Family Income in the United States (MEFAINUSA646N) \n",
    "# Consumer Price Index for All Urban Consumers: All Items (CPIAUCSL) \n",
    "# 15-Year Fixed Rate Mortgage Average in the United States (MORTGAGE15US)\n",
    "# 30-Year Fixed Rate Mortgage Average in the United States (MORTGAGE30US) \n",
    "# Civilian Unemployment Rate (UNRATE) \n",
    "# Consumer Price Index for All Urban Consumers: Rent of primary residence (CUUR0000SEHA) \n"
   ]
  },
  {
   "cell_type": "code",
   "execution_count": null,
   "metadata": {},
   "outputs": [],
   "source": [
    "def fedSeriesFromCSV(file):\n",
    "    \"\"\"converts csv files from fed \n",
    "    \"\"\"\n",
    "    file_name_pre = 'fed/'\n",
    "    file_name_post = '.csv'\n",
    "    file_nameFull = file_name_pre+file +file_name_post\n",
    "    return pd.read_csv(file_nameFull).set_index('DATE')['1997-01-01':'2019-01-01'][file]"
   ]
  },
  {
   "cell_type": "code",
   "execution_count": null,
   "metadata": {},
   "outputs": [],
   "source": [
    "fedFileList = ['CPIAUCSL',\n",
    "               'CUUR0000SEHA',\n",
    "               'LNS14000024',\n",
    "               'MEFAINUSA646N',\n",
    "               'MORTGAGE15US',\n",
    "               'MORTGAGE30US'\n",
    "               ]"
   ]
  },
  {
   "cell_type": "code",
   "execution_count": null,
   "metadata": {},
   "outputs": [],
   "source": [
    "def fedDataframeFromCSV(file_list):\n",
    "    \"\"\"file_list: all csv files\n",
    "    returns a dataframe with monthly obs\n",
    "    \"\"\"\n",
    "    _df_ = pd.DataFrame(data=None)\n",
    "    for file in file_list:\n",
    "        _df_[file] = fedSeriesFromCSV(file)\n",
    "    return _df_.interpolate()"
   ]
  },
  {
   "cell_type": "code",
   "execution_count": null,
   "metadata": {},
   "outputs": [],
   "source": [
    "masterFED_df = fedDataframeFromCSV(fedFileList)\n",
    "\n",
    "# allHomesMetro_df = metroDateTdf(file_metroAllHomes)\n",
    "masterFED_df['United States'] = allHomesMetro_df['United States']['1997-01-01':'2019-01-01'].tolist()\n",
    "masterFED_df.head()"
   ]
  },
  {
   "cell_type": "code",
   "execution_count": null,
   "metadata": {},
   "outputs": [],
   "source": [
    "import seaborn as sns\n"
   ]
  },
  {
   "cell_type": "code",
   "execution_count": null,
   "metadata": {},
   "outputs": [],
   "source": [
    "snsRegressionPlot(masterFED_df,'UnitedStates')"
   ]
  },
  {
   "cell_type": "code",
   "execution_count": null,
   "metadata": {},
   "outputs": [],
   "source": [
    "def snsRegressionPlot(df,yTarget):\n",
    "    \"\"\"df is a pivoted dataframe,\n",
    "    yTarget is the value to be predicted\n",
    "    ----default is 'United States'\n",
    "    returns plot with regression\n",
    "    \"\"\"\n",
    "    c0lorList = colorList.copy()\n",
    "    plt.figure(figsize=(15,10))\n",
    "    plt.rcParams[\"font.size\"] = 18\n",
    "    plt.grid(True)\n",
    "    _colList_ = df.columns\n",
    "    yTarget='United States'\n",
    "    for col in _colList_:\n",
    "        plt.figure(figsize = (12,7))        \n",
    "        _title_= str(col) +' vs mean US house price'\n",
    "        plt.title(_title_)\n",
    "        plt.xlabel(col)\n",
    "        plt.ylabel(yTarget)\n",
    "        rand1nt = np.random.randint(0,len(c0lorList))\n",
    "        c0lor = c0lorList[rand1nt] \n",
    "        sns.regplot(y=yTarget, x=col, data=df, fit_reg = True, color=c0lor)\n",
    "        plt.show()\n",
    "    return None"
   ]
  },
  {
   "cell_type": "code",
   "execution_count": null,
   "metadata": {},
   "outputs": [],
   "source": [
    "# snsRegressionPlot(masterFED_df,yTarget='United States')\n",
    "def snsRegPlotEZ(df,ytarget):\n",
    "    \"\"\"df:dataframe, label:field name to bring\n",
    "    \"\"\"\n",
    "    c0lorList = colorList.copy()\n",
    "    rand1nt = np.random.randint(0,len(c0lorList))\n",
    "    c0lor = c0lorList[rand1nt] \n",
    "    plt.figure(figsize=(15,10))\n",
    "    plt.rcParams[\"font.size\"] = 18\n",
    "    plt.grid(True)\n",
    "    plt.title(\"Price vs Time Series\")\n",
    "    plt.xlabel(\"Time\")\n",
    "    plt.ylabel(\"Price \")\n",
    "    plt.plot(df[label],\n",
    "             linestyle='--', \n",
    "             marker = 'o', \n",
    "             markersize='15',\n",
    "             markeredgecolor='whitesmoke',\n",
    "             markeredgewidth='1.5',\n",
    "             color = c0lor,\n",
    "             label=label\n",
    "            )\n",
    "    plt.legend(loc='best')\n",
    "    plt.show()\n",
    "    return "
   ]
  },
  {
   "cell_type": "code",
   "execution_count": null,
   "metadata": {},
   "outputs": [],
   "source": [
    "from sklearn.linear_model import LinearRegression"
   ]
  },
  {
   "cell_type": "code",
   "execution_count": null,
   "metadata": {},
   "outputs": [],
   "source": [
    "def predictionNumpyArray(X,y):\n",
    "    \"\"\" X: base dimension | y:target field\n",
    "        returns numpy array\n",
    "    \"\"\"\n",
    "    _model_ = LinearRegression()\n",
    "    _model_ = _model_.fit(X,y)\n",
    "#     print(str(round(model.coef_[0],2))+' *X + $'+str(round(model.intercept_/1000,2))+' thousands')\n",
    "    return np.array(_model_.predict(X))"
   ]
  },
  {
   "cell_type": "code",
   "execution_count": null,
   "metadata": {},
   "outputs": [],
   "source": [
    "def predictActualErrorDF(X,y):\n",
    "    \"\"\" X: base value ex. round number \n",
    "    | y:target field ex. house price\n",
    "        returns numpy array object\n",
    "    \"\"\"\n",
    "    _model_ = LinearRegression()\n",
    "    _model_ = _model_.fit(X,y)\n",
    "    _predictions_ = np.array(_model_.predict(X))\n",
    "    return pd.DataFrame({\"Predicted\": _predictions_, \n",
    "                         \"Actual\": y, \n",
    "                         \"Error\": _predictions_ - y})[[\"Predicted\", \"Actual\", \"Error\"]]\n"
   ]
  },
  {
   "cell_type": "code",
   "execution_count": null,
   "metadata": {},
   "outputs": [],
   "source": []
  }
 ],
 "metadata": {
  "kernelspec": {
   "display_name": "Python 3",
   "language": "python",
   "name": "python3"
  },
  "language_info": {
   "codemirror_mode": {
    "name": "ipython",
    "version": 3
   },
   "file_extension": ".py",
   "mimetype": "text/x-python",
   "name": "python",
   "nbconvert_exporter": "python",
   "pygments_lexer": "ipython3",
   "version": "3.6.5"
  }
 },
 "nbformat": 4,
 "nbformat_minor": 2
}
