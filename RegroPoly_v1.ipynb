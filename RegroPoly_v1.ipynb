{
 "cells": [
  {
   "cell_type": "code",
   "execution_count": 1,
   "metadata": {},
   "outputs": [],
   "source": [
    "# ######### data mungling with pandas before app-py for Flask # ######### \n",
    "from IPython.core.interactiveshell import InteractiveShell\n",
    "InteractiveShell.ast_node_interactivity = \"all\""
   ]
  },
  {
   "cell_type": "code",
   "execution_count": 2,
   "metadata": {},
   "outputs": [],
   "source": [
    "import pandas as pd\n",
    "import matplotlib.pyplot as plt\n",
    "import numpy as np\n",
    "import datetime as dt"
   ]
  },
  {
   "cell_type": "code",
   "execution_count": 5,
   "metadata": {},
   "outputs": [],
   "source": [
    "file = 'zillow/State_time_series.csv'\n",
    "zillow_Raw_df = pd.read_csv(file,encoding='ISO-8859-1')"
   ]
  },
  {
   "cell_type": "code",
   "execution_count": 7,
   "metadata": {},
   "outputs": [],
   "source": [
    " zillow_df= zillow_Raw_df.copy()\n",
    "# 13212 rows × 85 columns"
   ]
  },
  {
   "cell_type": "code",
   "execution_count": 10,
   "metadata": {},
   "outputs": [
    {
     "data": {
      "text/plain": [
       "['Date',\n",
       " 'DateMonth',\n",
       " 'DateQuarter',\n",
       " 'DateYear',\n",
       " 'RegionName',\n",
       " 'DaysOnZillow_AllHomes',\n",
       " 'InventorySeasonallyAdjusted_AllHomes',\n",
       " 'InventoryRaw_AllHomes',\n",
       " 'MedianListingPricePerSqft_1Bedroom',\n",
       " 'MedianListingPricePerSqft_2Bedroom',\n",
       " 'MedianListingPricePerSqft_3Bedroom',\n",
       " 'MedianListingPricePerSqft_4Bedroom',\n",
       " 'MedianListingPricePerSqft_5BedroomOrMore',\n",
       " 'MedianListingPricePerSqft_AllHomes',\n",
       " 'MedianListingPricePerSqft_CondoCoop',\n",
       " 'MedianListingPricePerSqft_DuplexTriplex',\n",
       " 'MedianListingPricePerSqft_SingleFamilyResidence',\n",
       " 'MedianListingPrice_1Bedroom',\n",
       " 'MedianListingPrice_2Bedroom',\n",
       " 'MedianListingPrice_3Bedroom',\n",
       " 'MedianListingPrice_4Bedroom',\n",
       " 'MedianListingPrice_5BedroomOrMore',\n",
       " 'MedianListingPrice_AllHomes',\n",
       " 'MedianListingPrice_CondoCoop',\n",
       " 'MedianListingPrice_DuplexTriplex',\n",
       " 'MedianListingPrice_SingleFamilyResidence',\n",
       " 'MedianPctOfPriceReduction_AllHomes',\n",
       " 'MedianPctOfPriceReduction_CondoCoop',\n",
       " 'MedianPctOfPriceReduction_SingleFamilyResidence',\n",
       " 'MedianPriceCutDollar_AllHomes',\n",
       " 'MedianPriceCutDollar_CondoCoop',\n",
       " 'MedianPriceCutDollar_SingleFamilyResidence',\n",
       " 'MedianRentalPricePerSqft_1Bedroom',\n",
       " 'MedianRentalPricePerSqft_2Bedroom',\n",
       " 'MedianRentalPricePerSqft_3Bedroom',\n",
       " 'MedianRentalPricePerSqft_4Bedroom',\n",
       " 'MedianRentalPricePerSqft_5BedroomOrMore',\n",
       " 'MedianRentalPricePerSqft_AllHomes',\n",
       " 'MedianRentalPricePerSqft_CondoCoop',\n",
       " 'MedianRentalPricePerSqft_DuplexTriplex',\n",
       " 'MedianRentalPricePerSqft_MultiFamilyResidence5PlusUnits',\n",
       " 'MedianRentalPricePerSqft_SingleFamilyResidence',\n",
       " 'MedianRentalPricePerSqft_Studio',\n",
       " 'MedianRentalPrice_1Bedroom',\n",
       " 'MedianRentalPrice_2Bedroom',\n",
       " 'MedianRentalPrice_3Bedroom',\n",
       " 'MedianRentalPrice_4Bedroom',\n",
       " 'MedianRentalPrice_5BedroomOrMore',\n",
       " 'MedianRentalPrice_AllHomes',\n",
       " 'MedianRentalPrice_CondoCoop',\n",
       " 'MedianRentalPrice_DuplexTriplex',\n",
       " 'MedianRentalPrice_MultiFamilyResidence5PlusUnits',\n",
       " 'MedianRentalPrice_SingleFamilyResidence',\n",
       " 'MedianRentalPrice_Studio',\n",
       " 'ZHVIPerSqft_AllHomes',\n",
       " 'PctOfHomesDecreasingInValues_AllHomes',\n",
       " 'PctOfHomesIncreasingInValues_AllHomes',\n",
       " 'PctOfHomesSellingForGain_AllHomes',\n",
       " 'PctOfHomesSellingForLoss_AllHomes',\n",
       " 'PctOfListingsWithPriceReductionsSeasAdj_AllHomes',\n",
       " 'PctOfListingsWithPriceReductionsSeasAdj_CondoCoop',\n",
       " 'PctOfListingsWithPriceReductionsSeasAdj_SingleFamilyResidence',\n",
       " 'PctOfListingsWithPriceReductions_AllHomes',\n",
       " 'PctOfListingsWithPriceReductions_CondoCoop',\n",
       " 'PctOfListingsWithPriceReductions_SingleFamilyResidence',\n",
       " 'PriceToRentRatio_AllHomes',\n",
       " 'Sale_Counts',\n",
       " 'Sale_Counts_Seas_Adj',\n",
       " 'Sale_Prices',\n",
       " 'ZHVI_1bedroom',\n",
       " 'ZHVI_2bedroom',\n",
       " 'ZHVI_3bedroom',\n",
       " 'ZHVI_4bedroom',\n",
       " 'ZHVI_5BedroomOrMore',\n",
       " 'ZHVI_AllHomes',\n",
       " 'ZHVI_BottomTier',\n",
       " 'ZHVI_CondoCoop',\n",
       " 'ZHVI_MiddleTier',\n",
       " 'ZHVI_SingleFamilyResidence',\n",
       " 'ZHVI_TopTier',\n",
       " 'ZRI_AllHomes',\n",
       " 'ZRI_AllHomesPlusMultifamily',\n",
       " 'ZriPerSqft_AllHomes',\n",
       " 'Zri_MultiFamilyResidenceRental',\n",
       " 'Zri_SingleFamilyResidenceRental']"
      ]
     },
     "execution_count": 10,
     "metadata": {},
     "output_type": "execute_result"
    }
   ],
   "source": [
    "allColumns_list = list(zillow_df.columns)   \n",
    "allColumns_list"
   ]
  },
  {
   "cell_type": "code",
   "execution_count": null,
   "metadata": {},
   "outputs": [],
   "source": []
  },
  {
   "cell_type": "code",
   "execution_count": null,
   "metadata": {},
   "outputs": [],
   "source": []
  },
  {
   "cell_type": "code",
   "execution_count": null,
   "metadata": {},
   "outputs": [],
   "source": []
  }
 ],
 "metadata": {
  "kernelspec": {
   "display_name": "Python 3",
   "language": "python",
   "name": "python3"
  },
  "language_info": {
   "codemirror_mode": {
    "name": "ipython",
    "version": 3
   },
   "file_extension": ".py",
   "mimetype": "text/x-python",
   "name": "python",
   "nbconvert_exporter": "python",
   "pygments_lexer": "ipython3",
   "version": "3.6.5"
  }
 },
 "nbformat": 4,
 "nbformat_minor": 2
}
