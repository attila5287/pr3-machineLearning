{
 "cells": [
  {
   "cell_type": "code",
   "execution_count": null,
   "metadata": {},
   "outputs": [],
   "source": []
  },
  {
   "cell_type": "code",
   "execution_count": null,
   "metadata": {},
   "outputs": [],
   "source": [
    "class calisan:\n",
    "\n",
    "    katsayi = 5\n",
    "\n",
    "    def __init__(self,ad,soyad,maas):\n",
    "        self.ad = ad\n",
    "        self.soyad = soyad\n",
    "        self.maas = maas\n",
    "        self.eposta = self.ad+self.soyad+\"@sirket.com\"\n",
    "    def tamad(self):\n",
    "        return \"adı : {}  soyadı : {}\".format(self.ad,self.soyad)\n",
    "\n",
    "personel1 = calisan(\"ali\",\"demir\",2500)\n",
    "\n",
    "personel2 = calisan (\"kerim\",\"bakir\",1950)\n",
    "\n",
    "print(calisan.tamad(personel1))\n",
    "print(calisan.katsayi)\n",
    "\n",
    "# Aşağıdaki kısım dersin ilk bölümünde anlatılan kısım\n",
    "\n",
    "\n",
    "# print(personel1)\n",
    "# print(personel1.ad,personel1.soyad,personel1.eposta)\n",
    "# print(personel1.tamad())\n",
    "#\n",
    "# print(personel2)\n",
    "# print(personel2.ad,personel2.soyad)\n",
    "# print(personel2.eposta)\n",
    "\n",
    "\n",
    "\n",
    "# class calisan:\n",
    "#     def __init__(self,ad,soyad,maas):\n",
    "#         pass\n",
    "#\n",
    "# personel1 = calisan(\"ali\",\"demir\",2500)\n",
    "# personel1.ad = \"ali\"\n",
    "# personel1.soyad = \"demir\"\n",
    "# personel1.maas = 2500\n",
    "#\n",
    "# personel2 = calisan ()\n",
    "# personel2.ad = \"kerim\"\n",
    "# personel2.soyad = \"bakir\"\n",
    "# personel2.maas = 1950\n",
    "#\n",
    "#\n",
    "# print(personel1)\n",
    "# print(personel1.ad,personel1.soyad)\n",
    "#\n",
    "# print(personel2)\n",
    "# print(personel2.ad,personel2.soyad)"
   ]
  }
 ],
 "metadata": {
  "kernelspec": {
   "display_name": "Python 3",
   "language": "python",
   "name": "python3"
  },
  "language_info": {
   "codemirror_mode": {
    "name": "ipython",
    "version": 3
   },
   "file_extension": ".py",
   "mimetype": "text/x-python",
   "name": "python",
   "nbconvert_exporter": "python",
   "pygments_lexer": "ipython3",
   "version": "3.6.5"
  }
 },
 "nbformat": 4,
 "nbformat_minor": 2
}
