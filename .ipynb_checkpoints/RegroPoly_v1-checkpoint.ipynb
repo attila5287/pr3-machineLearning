{
 "cells": [
  {
   "cell_type": "code",
   "execution_count": 1,
   "metadata": {},
   "outputs": [],
   "source": [
    "# ######### data mungling with pandas before app-py for Flask # ######### \n",
    "from IPython.core.interactiveshell import InteractiveShell\n",
    "InteractiveShell.ast_node_interactivity = \"all\""
   ]
  },
  {
   "cell_type": "code",
   "execution_count": 2,
   "metadata": {},
   "outputs": [],
   "source": [
    "import pandas as pd\n",
    "import matplotlib.pyplot as plt\n",
    "import numpy as np\n",
    "import datetime as dt"
   ]
  },
  {
   "cell_type": "code",
   "execution_count": 3,
   "metadata": {},
   "outputs": [],
   "source": [
    "\n",
    "\n",
    "# _df = pd.read_csv(\n",
    "#     , encoding='ISO-8859-1')\n"
   ]
  },
  {
   "cell_type": "code",
   "execution_count": null,
   "metadata": {},
   "outputs": [],
   "source": []
  },
  {
   "cell_type": "code",
   "execution_count": 13,
   "metadata": {
    "scrolled": true
   },
   "outputs": [],
   "source": [
    "coTest_df = coTestRaw_df.copy()\n",
    "# coTest_df.columns ['roundNo', 'ind3x', 'DateYear', 'DateHalf', '1bedAvg', '2bedAvg',\n",
    "#        '3bedAvg', '4bedAvg', 'avgOneBedStr', 'avgTwoBedStr', 'avgThreeBedStr',\n",
    "#        'avgCondoStr']"
   ]
  },
  {
   "cell_type": "code",
   "execution_count": 14,
   "metadata": {},
   "outputs": [],
   "source": [
    "# - - - - - REG FOR ONE BEDROOM MEDIAN LST PRC - - - - - \n",
    "# pol reg order 2 eqtn y = 620.55x2 - 2167.7x + 147740 highest R-sq\n",
    "# linear reg w/ forced intercept lower R-sq\n",
    "# lin reg free style high R-sq but unrealistic intercept at 116,000"
   ]
  },
  {
   "cell_type": "code",
   "execution_count": 20,
   "metadata": {},
   "outputs": [
    {
     "data": {
      "text/html": [
       "<div>\n",
       "<style scoped>\n",
       "    .dataframe tbody tr th:only-of-type {\n",
       "        vertical-align: middle;\n",
       "    }\n",
       "\n",
       "    .dataframe tbody tr th {\n",
       "        vertical-align: top;\n",
       "    }\n",
       "\n",
       "    .dataframe thead th {\n",
       "        text-align: right;\n",
       "    }\n",
       "</style>\n",
       "<table border=\"1\" class=\"dataframe\">\n",
       "  <thead>\n",
       "    <tr style=\"text-align: right;\">\n",
       "      <th></th>\n",
       "      <th>roundNo</th>\n",
       "      <th>1bedAvg</th>\n",
       "      <th>1bedAvgRnd</th>\n",
       "      <th>regPol2</th>\n",
       "      <th>regLinFit</th>\n",
       "      <th>regLinFree</th>\n",
       "      <th>1bedAvg_str</th>\n",
       "      <th>1bedAvgRnd_str</th>\n",
       "      <th>regPol2_str</th>\n",
       "      <th>regLinFit_str</th>\n",
       "      <th>regLinFree_str</th>\n",
       "    </tr>\n",
       "  </thead>\n",
       "  <tbody>\n",
       "    <tr>\n",
       "      <th>0</th>\n",
       "      <td>1</td>\n",
       "      <td>150283.3333</td>\n",
       "      <td>179376</td>\n",
       "      <td>146192.85</td>\n",
       "      <td>137117</td>\n",
       "      <td>124473</td>\n",
       "      <td>$ 150,283</td>\n",
       "      <td>$ 179,376</td>\n",
       "      <td>$ 146,193</td>\n",
       "      <td>$ 137,117</td>\n",
       "      <td>$ 124,473</td>\n",
       "    </tr>\n",
       "    <tr>\n",
       "      <th>1</th>\n",
       "      <td>2</td>\n",
       "      <td>150583.3333</td>\n",
       "      <td>145546</td>\n",
       "      <td>145886.80</td>\n",
       "      <td>144234</td>\n",
       "      <td>132854</td>\n",
       "      <td>$ 150,583</td>\n",
       "      <td>$ 145,546</td>\n",
       "      <td>$ 145,887</td>\n",
       "      <td>$ 144,234</td>\n",
       "      <td>$ 132,854</td>\n",
       "    </tr>\n",
       "    <tr>\n",
       "      <th>2</th>\n",
       "      <td>3</td>\n",
       "      <td>141525.0000</td>\n",
       "      <td>145212</td>\n",
       "      <td>146821.85</td>\n",
       "      <td>151351</td>\n",
       "      <td>141235</td>\n",
       "      <td>$ 141,525</td>\n",
       "      <td>$ 145,212</td>\n",
       "      <td>$ 146,822</td>\n",
       "      <td>$ 151,351</td>\n",
       "      <td>$ 141,235</td>\n",
       "    </tr>\n",
       "    <tr>\n",
       "      <th>3</th>\n",
       "      <td>4</td>\n",
       "      <td>144291.6667</td>\n",
       "      <td>174960</td>\n",
       "      <td>148998.00</td>\n",
       "      <td>158468</td>\n",
       "      <td>149616</td>\n",
       "      <td>$ 144,292</td>\n",
       "      <td>$ 174,960</td>\n",
       "      <td>$ 148,998</td>\n",
       "      <td>$ 158,468</td>\n",
       "      <td>$ 149,616</td>\n",
       "    </tr>\n",
       "    <tr>\n",
       "      <th>4</th>\n",
       "      <td>5</td>\n",
       "      <td>148633.3333</td>\n",
       "      <td>172193</td>\n",
       "      <td>152415.25</td>\n",
       "      <td>165585</td>\n",
       "      <td>157997</td>\n",
       "      <td>$ 148,633</td>\n",
       "      <td>$ 172,193</td>\n",
       "      <td>$ 152,415</td>\n",
       "      <td>$ 165,585</td>\n",
       "      <td>$ 157,997</td>\n",
       "    </tr>\n",
       "  </tbody>\n",
       "</table>\n",
       "</div>"
      ],
      "text/plain": [
       "   roundNo      1bedAvg  1bedAvgRnd    regPol2  regLinFit  regLinFree  \\\n",
       "0        1  150283.3333      179376  146192.85     137117      124473   \n",
       "1        2  150583.3333      145546  145886.80     144234      132854   \n",
       "2        3  141525.0000      145212  146821.85     151351      141235   \n",
       "3        4  144291.6667      174960  148998.00     158468      149616   \n",
       "4        5  148633.3333      172193  152415.25     165585      157997   \n",
       "\n",
       "  1bedAvg_str 1bedAvgRnd_str regPol2_str regLinFit_str regLinFree_str  \n",
       "0   $ 150,283      $ 179,376   $ 146,193     $ 137,117      $ 124,473  \n",
       "1   $ 150,583      $ 145,546   $ 145,887     $ 144,234      $ 132,854  \n",
       "2   $ 141,525      $ 145,212   $ 146,822     $ 151,351      $ 141,235  \n",
       "3   $ 144,292      $ 174,960   $ 148,998     $ 158,468      $ 149,616  \n",
       "4   $ 148,633      $ 172,193   $ 152,415     $ 165,585      $ 157,997  "
      ]
     },
     "execution_count": 20,
     "metadata": {},
     "output_type": "execute_result"
    }
   ],
   "source": [
    "fileTest2 = 'static/coloradoTestReg_bed1.csv'\n",
    "coTestBed1_df = pd.read_csv(fileTest2)\n",
    "coTestBed1_df.head()"
   ]
  },
  {
   "cell_type": "code",
   "execution_count": null,
   "metadata": {},
   "outputs": [],
   "source": [
    "   "
   ]
  },
  {
   "cell_type": "code",
   "execution_count": null,
   "metadata": {},
   "outputs": [],
   "source": []
  },
  {
   "cell_type": "code",
   "execution_count": null,
   "metadata": {},
   "outputs": [],
   "source": []
  },
  {
   "cell_type": "code",
   "execution_count": null,
   "metadata": {},
   "outputs": [],
   "source": []
  }
 ],
 "metadata": {
  "kernelspec": {
   "display_name": "Python 3",
   "language": "python",
   "name": "python3"
  },
  "language_info": {
   "codemirror_mode": {
    "name": "ipython",
    "version": 3
   },
   "file_extension": ".py",
   "mimetype": "text/x-python",
   "name": "python",
   "nbconvert_exporter": "python",
   "pygments_lexer": "ipython3",
   "version": "3.6.5"
  }
 },
 "nbformat": 4,
 "nbformat_minor": 2
}
