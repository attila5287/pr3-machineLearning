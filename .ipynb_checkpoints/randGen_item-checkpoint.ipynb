{
 "cells": [
  {
   "cell_type": "code",
   "execution_count": 1,
   "metadata": {},
   "outputs": [],
   "source": [
    "import pandas as pd\n",
    "import numpy as np"
   ]
  },
  {
   "cell_type": "code",
   "execution_count": 131,
   "metadata": {},
   "outputs": [],
   "source": [
    "class Item:\n",
    "    \"\"\" ALL HOUSE MARKET ITEMS. CREATE AS AN OBJECT THUS WEB-INTERFACE WITH JINJA2, \n",
    "    AND UPLOADING TO MONGODB DATABASE THRU ITERABLE OBJS\"\"\"\n",
    "    def __init__(self,itemState='',itemType='',itemBasePrice='', itemRoundNo='', \n",
    "                 itemRoundPrice='',itemID='',itemPlayerAsset ='', **kwargs):\n",
    "        super().__init__(**kwargs)\n",
    "        self.itemState = randGen_itemState()\n",
    "        self.itemType = randGen_itemType()\n",
    "        self.itemBasePrice = itemBasePrice\n",
    "        self.itemRoundNo = itemRoundNo\n",
    "        self.itemRoundPrice = itemRoundPrice\n",
    "        self.itemID = itemID\n",
    "\n",
    "    def displayTest():\n",
    "        \"\"\" TESTING CODE LOCALLY BEFORE FLASK-HEROKU-APP\n",
    "        PRINTS OUT ALL PROPERTIES BEING GENERATED\n",
    "        \"\"\"\n",
    "        print(\"- - -  Item-Attributes - - - \")\n",
    "        print(\"itemState {}\".format(self.itemState))\n",
    "        print(\"itemType {}\".format(self.itemType))\n",
    "        print(\"itemBasePrice {}\".format(self.itemBasePrice))\n",
    "        print(\"itemRoundNo {}\".format(self.itemRoundNo))\n",
    "        print(\"itemRoundPrice {}\".format(self.itemRoundPrice))\n",
    "        print(\"itemID {}\".format(self.itemState))"
   ]
  },
  {
   "cell_type": "code",
   "execution_count": 107,
   "metadata": {},
   "outputs": [],
   "source": [
    "# constructor/-init- function for Item cls members\n",
    "self.itemState = randGen_itemState()\n",
    "self.itemType = randGen_itemType()\n",
    "self.itemBasePrice = randGen_itemBasePrice()\n",
    "self.itemRoundNo = randGen_itemRoundNo()\n",
    "self.itemRoundPrice = randGen_itemRoundPrice()\n",
    "self.itemID = randGen_itemID()"
   ]
  },
  {
   "cell_type": "code",
   "execution_count": 129,
   "metadata": {},
   "outputs": [],
   "source": [
    "# (1) self.itemState = randGen_itemState()\n",
    "def randGen_itemState():\n",
    "    \"\"\" RANDOMLY GENERATES ITEM.ATTIRIBUTE FOR STATE\n",
    "    DEMO VERSION ONLY FOR CO CA NE \"\"\"\n",
    "    demoStateList = ['California', 'Colorado', 'Nebraska']\n",
    "    # this will be later modified to user selected states\n",
    "    randomIndexState = np.random.randint(0, 3)\n",
    "    # only demo now for CA CO NE\n",
    "    return demoStateList[randomIndexState]"
   ]
  },
  {
   "cell_type": "code",
   "execution_count": 130,
   "metadata": {},
   "outputs": [
    {
     "data": {
      "text/plain": [
       "'Nebraska'"
      ]
     },
     "execution_count": 130,
     "metadata": {},
     "output_type": "execute_result"
    }
   ],
   "source": [
    "randGen_itemState()"
   ]
  },
  {
   "cell_type": "code",
   "execution_count": 112,
   "metadata": {},
   "outputs": [],
   "source": [
    "# (2) self.itemType = randGen_itemType()\n",
    "def randGen_itemType():\n",
    "    \"\"\" RANDOMLY GENERATES ITEM.ATTIRIBUTE FOR STATE\n",
    "    DEMO VERSION ONLY FOR CO CA NE \"\"\"\n",
    "    demoUserSelection = ['California', 'Colorado', 'Nebraska']\n",
    "    # this will be later modified to user selected states\n",
    "    randomIndexState = np.random.randint(0, 3)\n",
    "    print(randomIndexState)\n",
    "    # only demo now for CA CO NE\n",
    "    return demoUserSelection[randomIndexState]\n",
    "    "
   ]
  },
  {
   "cell_type": "code",
   "execution_count": null,
   "metadata": {},
   "outputs": [],
   "source": [
    "# self.itemBasePrice = randGen_itemBasePrice()\n",
    "# self.itemRoundNo = randGen_itemRoundNo()\n",
    "# self.itemRoundPrice = randGen_itemRoundPrice()\n",
    "# self.itemID = randGen_itemID()"
   ]
  },
  {
   "cell_type": "code",
   "execution_count": null,
   "metadata": {},
   "outputs": [],
   "source": []
  },
  {
   "cell_type": "code",
   "execution_count": null,
   "metadata": {},
   "outputs": [],
   "source": []
  },
  {
   "cell_type": "code",
   "execution_count": null,
   "metadata": {},
   "outputs": [],
   "source": []
  },
  {
   "cell_type": "code",
   "execution_count": null,
   "metadata": {},
   "outputs": [],
   "source": []
  },
  {
   "cell_type": "code",
   "execution_count": null,
   "metadata": {},
   "outputs": [],
   "source": []
  },
  {
   "cell_type": "code",
   "execution_count": 74,
   "metadata": {},
   "outputs": [],
   "source": [
    "class Rectangle:\n",
    "    def __init__(self, length, width):\n",
    "        self.length = length\n",
    "        self.width = width\n",
    "\n",
    "    def area(self):\n",
    "        return self.length * self.width\n",
    "\n",
    "    def perimeter(self):\n",
    "        return 2 * self.length + 2 * self.width\n",
    "\n",
    "# Here we declare that the Square class inherits from the Rectangle class\n",
    "class Square(Rectangle):\n",
    "    def __init__(self, length):\n",
    "        super().__init__(length, length)\n",
    "\n",
    "class Cube(Square):\n",
    "    def surface_area(self):\n",
    "        face_area = super(Square, self).area()\n",
    "        return face_area * 6\n",
    "\n",
    "    def volume(self):\n",
    "        face_area = super(Square, self).area()\n",
    "        return face_area * self.length"
   ]
  },
  {
   "cell_type": "code",
   "execution_count": 86,
   "metadata": {},
   "outputs": [
    {
     "data": {
      "text/plain": [
       "<bound method Rectangle.area of <__main__.Square object at 0x00000225448162B0>>"
      ]
     },
     "execution_count": 86,
     "metadata": {},
     "output_type": "execute_result"
    }
   ],
   "source": [
    "squar3 = Square(2)\n",
    "squar3.length\n",
    "squar3.area"
   ]
  }
 ],
 "metadata": {
  "kernelspec": {
   "display_name": "Python 3",
   "language": "python",
   "name": "python3"
  },
  "language_info": {
   "codemirror_mode": {
    "name": "ipython",
    "version": 3
   },
   "file_extension": ".py",
   "mimetype": "text/x-python",
   "name": "python",
   "nbconvert_exporter": "python",
   "pygments_lexer": "ipython3",
   "version": "3.6.5"
  }
 },
 "nbformat": 4,
 "nbformat_minor": 2
}
