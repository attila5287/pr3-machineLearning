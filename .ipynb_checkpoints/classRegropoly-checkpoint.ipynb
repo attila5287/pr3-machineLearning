{
 "cells": [
  {
   "cell_type": "code",
   "execution_count": 4,
   "metadata": {},
   "outputs": [],
   "source": [
    "\n",
    "import numpy as np"
   ]
  },
  {
   "cell_type": "code",
   "execution_count": 5,
   "metadata": {},
   "outputs": [],
   "source": [
    "from initFunctionsForClassItem import (randGen_itemState,\n",
    "randGen_itemType,\n",
    "randGen_itemBasePrice,\n",
    "dictItemType_init,\n",
    "randGen_itemID\n",
    ")"
   ]
  },
  {
   "cell_type": "code",
   "execution_count": 36,
   "metadata": {},
   "outputs": [],
   "source": [
    "class Item:\n",
    "    \"\"\" ALL HOUSE MARKET ITEMS. CREATE AS AN OBJECT THUS WEB-INTERFACE WITH JINJA2, \n",
    "    AND UPLOADING TO MONGODB DATABASE THRU ITERABLE OBJS\"\"\"\n",
    "\n",
    "    def __init__(self,\n",
    "                 itemState='',\n",
    "                 itemType='',\n",
    "                 itemBasePrice='',\n",
    "                 itemID='',\n",
    "                 **kwargs):\n",
    "        super().__init__(**kwargs)\n",
    "#         self.itemState = 'a'\n",
    "#         self.itemType = 'b'\n",
    "#         self.itemBasePrice = 'c'\n",
    "        self.itemState = randGen_itemState()\n",
    "        self.itemType = randGen_itemType()\n",
    "        self.itemBasePrice = randGen_itemBasePrice()\n",
    "        self.itemID = randGen_itemID(self.itemState,self.itemType)\n",
    "    \n",
    "    def allSelfList(self):\n",
    "        __list = [self.itemState, self.itemType, self.itemBasePrice, self.itemID]\n",
    "        \n",
    "        for list_item in __list:\n",
    "            print(list_item)\n",
    "            \n",
    "    \n",
    "    def display(self):\n",
    "        \"\"\" TESTING CODE LOCALLY BEFORE FLASK-HEROKU-APP\n",
    "        PRINTS OUT ALL PROPERTIES BEING GENERATED\n",
    "        \"\"\"\n",
    "        print(\"- - - PROPERTY-FOR-SALE - - - \")\n",
    "        print(\" - - - - - - - - - - - - - - -\")\n",
    "        print(\"State {}\".format(self.itemState))\n",
    "        print(\"itemType {}\".format(self.itemType))\n",
    "        print(\"itemBasePrice $ {:,.0f}\".format(self.itemBasePrice))\n",
    "        print(\"itemID {}\".format(self.itemID))\n"
   ]
  },
  {
   "cell_type": "code",
   "execution_count": 37,
   "metadata": {},
   "outputs": [
    {
     "name": "stdout",
     "output_type": "stream",
     "text": [
      "- - - PROPERTY-FOR-SALE - - - \n",
      " - - - - - - - - - - - - - - -\n",
      "State California\n",
      "itemType OneBedroom\n",
      "itemBasePrice $ 266,423\n",
      "itemID California1B00103308\n"
     ]
    }
   ],
   "source": [
    "a = Item()\n",
    "a.display()"
   ]
  },
  {
   "cell_type": "code",
   "execution_count": null,
   "metadata": {},
   "outputs": [],
   "source": [
    "def dictItemState_init():\n",
    "    \"\"\"RETURNS DICTIONARY TO STORE STATE ABBRV \n",
    "    EX KEY: COLORADO VALUE: CO, CALIFORNIA:CA, NEBRASKA: NE\"\"\"\n",
    "    "
   ]
  },
  {
   "cell_type": "code",
   "execution_count": null,
   "metadata": {},
   "outputs": [],
   "source": []
  },
  {
   "cell_type": "code",
   "execution_count": null,
   "metadata": {},
   "outputs": [],
   "source": []
  },
  {
   "cell_type": "code",
   "execution_count": null,
   "metadata": {},
   "outputs": [],
   "source": []
  },
  {
   "cell_type": "code",
   "execution_count": null,
   "metadata": {},
   "outputs": [],
   "source": [
    "# below dictionary is required for an excel-VLOOKUP-like case-switch\n",
    "def dictItemType_init():\n",
    "    \"\"\"RETURNS DICTIONARY TO USE AS A REF TABLE FOR ITEM TYPE\"\"\"\n",
    "    keysItemType = ['OneBedroom', 'TwoBedroom', 'ThreeBedroom', 'Condo']\n",
    "    valuesItemType = ['1B','2B','3B','0C']\n",
    "    return dict(zip(keysItemType,valuesItemType))"
   ]
  }
 ],
 "metadata": {
  "kernelspec": {
   "display_name": "Python 3",
   "language": "python",
   "name": "python3"
  },
  "language_info": {
   "codemirror_mode": {
    "name": "ipython",
    "version": 3
   },
   "file_extension": ".py",
   "mimetype": "text/x-python",
   "name": "python",
   "nbconvert_exporter": "python",
   "pygments_lexer": "ipython3",
   "version": "3.6.5"
  }
 },
 "nbformat": 4,
 "nbformat_minor": 2
}
